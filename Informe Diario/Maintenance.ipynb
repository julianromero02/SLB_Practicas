{
 "cells": [
  {
   "cell_type": "code",
   "execution_count": 3,
   "metadata": {},
   "outputs": [
    {
     "name": "stdout",
     "output_type": "stream",
     "text": [
      "                    Origin        Destination    Cupo         ESTADO  \\\n",
      "2            VILLAVICENCIO      VILLAVICENCIO  FVQ475  MANTENIMIENTO   \n",
      "7                 TRINIDAD           TRINIDAD  FVR345  MANTENIMIENTO   \n",
      "8                 TRINIDAD              YOPAL  FVR348  MANTENIMIENTO   \n",
      "10                TRINIDAD  TRINIDAD POZO IZA  FVS297  MANTENIMIENTO   \n",
      "14                    SOPO             BOGOTA  LHT229  MANTENIMIENTO   \n",
      "16               CARTAGENA          CARTAGENA  LHT624  MANTENIMIENTO   \n",
      "17               CARTAGENA          CARTAGENA  LHT626  MANTENIMIENTO   \n",
      "18                  BOGOTA               COTA  LHV855  MANTENIMIENTO   \n",
      "25  DUITAMA/ HOTEL OLIMPIA             BOGOTA  FVR346  MANTENIMIENTO   \n",
      "\n",
      "           Fecha Inicio Fecha Finalizacion  \n",
      "2         4/3/2024 6:05                NaN  \n",
      "7        3/26/2024 6:05                NaN  \n",
      "8         4/5/2024 6:05                NaN  \n",
      "10  2024-03-21 00:00:00                NaN  \n",
      "14       4/16/2024 6:00     4/16/2024 7:30  \n",
      "16       4/15/2024 6:05                NaN  \n",
      "17       4/15/2024 6:05                NaN  \n",
      "18       4/15/2024 6:05                NaN  \n",
      "25       2/21/2024 6:05                NaN  \n"
     ]
    }
   ],
   "source": [
    "from datetime import datetime\n",
    "import re\n",
    "import pandas as pd\n",
    "from datetime import datetime, timedelta\n",
    "from unidecode import unidecode\n",
    "df={'Origin':['BOGOTA','VILLAVICENCIO','BUCARAMANGA'],\n",
    "    'Destination':['BOGOTA','VILLAVICENCIO','BUCARAMANGA'],\n",
    "    'Cupo':['AAV837','DRZ986','FVN345'],\n",
    "    'ESTADO':['MANTENIMIENTO','EN SERVICIO','MANTENIMIENTO'],\n",
    "    'Fecha Incio':['09/13/2023','09/12/2023','09/10/2023'],\n",
    "    'Fecha Finalizacion':['09/15/2023','09/12/2023','']   \n",
    "    }\n",
    "\n",
    "Mantenimiento=pd.read_excel('Mantenimiento.xlsx',header=0)\n",
    "df_formato_guia = pd.read_excel('ACT_Formato_guia_control_renta.xlsx',header=0)\n",
    "df_entrapetrol=pd.read_excel\n",
    "columnas=['Origin','Destination','Cupo', 'ESTADO','Fecha Inicio','Fecha Finalizacion']\n",
    "#print(f\"{Mantenimiento}\\n\")\n",
    "print(df_formato_guia.loc[df_formato_guia[\"ESTADO\"]==\"MANTENIMIENTO\",columnas])\n",
    "df=pd.DataFrame(df)"
   ]
  },
  {
   "cell_type": "code",
   "execution_count": 4,
   "metadata": {},
   "outputs": [
    {
     "name": "stdout",
     "output_type": "stream",
     "text": [
      "     Cupo               Inicio             Finalizo  Dias  \\\n",
      "0  FVS297  2024-03-21 00:00:00                  NaN    26   \n",
      "1  FVQ475        4/3/2024 6:05                  NaN    13   \n",
      "2  FVR345       3/26/2024 6:05                  NaN    21   \n",
      "3  FVR348        4/5/2024 6:05                  NaN    11   \n",
      "4  LHT229       4/16/2024 6:00                  NaN     0   \n",
      "5  LHT624       4/15/2024 6:05                  NaN     1   \n",
      "6  LHT626       4/15/2024 6:05                  NaN     1   \n",
      "7  LHV855       4/15/2024 6:05                  NaN     1   \n",
      "8  FVR346       2/21/2024 6:05  02/21/2024 00:00:00    55   \n",
      "\n",
      "                          Observacion  \n",
      "0  Movimiento en vacío retorno a base  \n",
      "1                             GS15162  \n",
      "2                                 NaN  \n",
      "3                                 NaN  \n",
      "4                             GS15161  \n",
      "5                             GS15040  \n",
      "6                             GS15119  \n",
      "7                                 NaN  \n",
      "8                                 NaN  \n"
     ]
    }
   ],
   "source": [
    "# Fecha actual\n",
    "hoy = datetime.now().date()\n",
    "# Itera sobre las filas de df_formato_guia\n",
    "for index, row in df_formato_guia.iterrows():\n",
    "    if row['ESTADO'] == \"MANTENIMIENTO\":\n",
    "        # Verifica si el Cupo existe en Mantenimiento\n",
    "        if row['Cupo'] not in Mantenimiento['Cupo'].values:\n",
    "            # Crea una nueva fila para agregar a Mantenimiento\n",
    "            fecha_inicio = pd.to_datetime(row['Fecha Inicio']).date()  # Convert to datetime and extract date\n",
    "            dias = (hoy - fecha_inicio).days\n",
    "            dias = dias + 1\n",
    "            nueva_fila = pd.DataFrame({'Cupo': [row['Cupo']], 'Inicio': [row['Fecha Inicio']],\n",
    "                                       'Finalizo': [None], 'Dias': [dias], 'Observacion': [row['Observaciones']]})\n",
    "            # Concatenar el nuevo DataFrame con Mantenimiento\n",
    "            Mantenimiento = pd.concat([Mantenimiento, nueva_fila], ignore_index=True)\n",
    "        else:\n",
    "            # Busca la fila existente en Mantenimiento\n",
    "            index_mantenimiento = Mantenimiento[Mantenimiento['Cupo'] == row['Cupo']].index[0]\n",
    "            fecha_inicio_actual = pd.to_datetime(row['Fecha Inicio']).date()  # Convert to datetime and extract date\n",
    "            fecha_inicio_mantenimiento = pd.to_datetime(Mantenimiento.loc[index_mantenimiento, 'Inicio']).date()  # Convert to datetime and extract date\n",
    "            dias = (hoy - fecha_inicio_mantenimiento).days\n",
    "            Mantenimiento.at[index_mantenimiento, 'Dias'] = dias + 1\n",
    "            Mantenimiento.at[index_mantenimiento, 'Inicio'] = row['Fecha Inicio']  # Actualiza la columna 'Inicio'\n",
    "\n",
    "    elif row['ESTADO'] != \"MANTENIMIENTO\":\n",
    "        # Verifica si el Cupo existe en Mantenimiento y si no tiene fecha de finalización\n",
    "        if row['Cupo'] in Mantenimiento['Cupo'].values and pd.isna(Mantenimiento[Mantenimiento['Cupo'] == row['Cupo']]['Finalizo'].values[0]):\n",
    "            # Actualiza la fecha de finalización en Mantenimiento\n",
    "            index_mantenimiento = Mantenimiento[Mantenimiento['Cupo'] == row['Cupo']].index[0]\n",
    "            fecha_inicio_actual = pd.to_datetime(Mantenimiento.loc[Mantenimiento['Cupo'] == row['Cupo'], 'Inicio'].iloc[0]).date()  # Convert to datetime and extract date\n",
    "            if row['ESTADO'] == 'DISPONIBLE':\n",
    "                Mantenimiento.at[index_mantenimiento, 'Finalizo'] = hoy\n",
    "            Mantenimiento.loc[index_mantenimiento, 'Finalizo'] = fecha_inicio_actual.strftime(\"%m/%d/%Y %H:%M:%S\")\n",
    "            dias = (hoy - fecha_inicio_actual).days\n",
    "            Mantenimiento.at[index_mantenimiento, 'Dias'] = dias + 1\n",
    "\n",
    "column_order = ['Cupo', 'Inicio', 'Finalizo', 'Dias', 'Observacion']\n",
    "Mantenimiento = Mantenimiento[column_order]\n",
    "Mantenimiento.to_excel('Mantenimiento.xlsx', index=False)\n",
    "# Imprime el DataFrame Mantenimiento actualizado\n",
    "print(Mantenimiento)\n"
   ]
  }
 ],
 "metadata": {
  "kernelspec": {
   "display_name": "Python 3",
   "language": "python",
   "name": "python3"
  },
  "language_info": {
   "codemirror_mode": {
    "name": "ipython",
    "version": 3
   },
   "file_extension": ".py",
   "mimetype": "text/x-python",
   "name": "python",
   "nbconvert_exporter": "python",
   "pygments_lexer": "ipython3",
   "version": "3.12.2"
  },
  "orig_nbformat": 4
 },
 "nbformat": 4,
 "nbformat_minor": 2
}
