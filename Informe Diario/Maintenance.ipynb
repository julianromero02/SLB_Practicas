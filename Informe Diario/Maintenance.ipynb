{
 "cells": [
  {
   "cell_type": "code",
   "execution_count": 9,
   "metadata": {},
   "outputs": [
    {
     "name": "stdout",
     "output_type": "stream",
     "text": [
      "           Origin Destination    Cupo         ESTADO         Fecha Inicio  \\\n",
      "10      TAURAMENA       YOPAL  FVR345  MANTENIMIENTO  01/24/2024 00:00:00   \n",
      "19  VILLAVICENCIO    MOSQUERA  LHT237  MANTENIMIENTO  01/24/2024 00:00:00   \n",
      "30     VILLANUEVA      BOGOTA  FVN739  MANTENIMIENTO  01/26/2024 00:00:00   \n",
      "\n",
      "   Fecha Finalizacion  \n",
      "10                NaN  \n",
      "19                NaN  \n",
      "30                NaN  \n"
     ]
    }
   ],
   "source": [
    "from datetime import datetime\n",
    "import re\n",
    "import pandas as pd\n",
    "from datetime import datetime, timedelta\n",
    "from unidecode import unidecode\n",
    "df={'Origin':['BOGOTA','VILLAVICENCIO','BUCARAMANGA'],\n",
    "    'Destination':['BOGOTA','VILLAVICENCIO','BUCARAMANGA'],\n",
    "    'Cupo':['AAV837','DRZ986','FVN345'],\n",
    "    'ESTADO':['MANTENIMIENTO','EN SERVICIO','MANTENIMIENTO'],\n",
    "    'Fecha Incio':['09/13/2023','09/12/2023','09/10/2023'],\n",
    "    'Fecha Finalizacion':['09/15/2023','09/12/2023','']   \n",
    "    }\n",
    "\n",
    "Mantenimiento=pd.read_excel('Mantenimiento.xlsx',header=0)\n",
    "df_formato_guia = pd.read_excel('ACT_Formato_guia_control_renta.xlsx',header=0)\n",
    "df_entrapetrol=pd.read_excel\n",
    "columnas=['Origin','Destination','Cupo', 'ESTADO','Fecha Inicio','Fecha Finalizacion']\n",
    "#print(f\"{Mantenimiento}\\n\")\n",
    "print(df_formato_guia.loc[df_formato_guia[\"ESTADO\"]==\"MANTENIMIENTO\",columnas])\n",
    "df=pd.DataFrame(df)"
   ]
  },
  {
   "cell_type": "code",
   "execution_count": 10,
   "metadata": {},
   "outputs": [
    {
     "name": "stdout",
     "output_type": "stream",
     "text": [
      "      Cupo     Inicio             Finalizo  Dias  \\\n",
      "0   FVQ475 2023-10-17  10/17/2023 00:00:00   109   \n",
      "1   FVQ491 2023-12-18      12/18/2023 0:00    32   \n",
      "2   FVR348 2023-12-18      12/18/2023 0:00    32   \n",
      "3   FVS295 2023-12-18      12/18/2023 0:00    32   \n",
      "4   LHR715 2024-01-11       1/11/2024 0:00    12   \n",
      "5   FVN341 2024-01-04        1/4/2024 0:00    15   \n",
      "6   FVS298 2023-12-30      12/30/2023 0:00    17   \n",
      "7   FVQ473 2024-01-13  01/13/2024 00:00:00    17   \n",
      "8   FVR346 2024-01-16  01/16/2024 00:00:00    14   \n",
      "9   LHT237 2024-01-24  01/28/2024 00:00:00    15   \n",
      "10  FVN739 2024-01-26                  NaN    13   \n",
      "11  FVN737 2024-01-22  01/22/2024 00:00:00     8   \n",
      "12  FVS297 2024-01-22  01/22/2024 00:00:00     8   \n",
      "13  FVR345 2024-01-24                  NaN    15   \n",
      "\n",
      "                                     Observacion  \n",
      "0   ingresa a mantenimiento por fallas mecánicas  \n",
      "1                                            NaN  \n",
      "2                                            NaN  \n",
      "3                                            NaN  \n",
      "4                                            NaN  \n",
      "5                                            NaN  \n",
      "6                       Esperado para cita de MT  \n",
      "7                                            NaN  \n",
      "8                                            NaN  \n",
      "9                                            NaN  \n",
      "10                                           NaN  \n",
      "11                                           NaN  \n",
      "12            Movimiento en vacío retorno a base  \n",
      "13                                           NaN  \n"
     ]
    }
   ],
   "source": [
    "# Fecha actual\n",
    "hoy = datetime.now().date()\n",
    "# Itera sobre las filas de df_formato_guia\n",
    "for index, row in df_formato_guia.iterrows():\n",
    "    if row['ESTADO'] == \"MANTENIMIENTO\":\n",
    "        # Verifica si el Cupo existe en Mantenimiento\n",
    "        if row['Cupo'] not in Mantenimiento['Cupo'].values:\n",
    "            # Crea una nueva fila para agregar a Mantenimiento\n",
    "            fecha_inicio = pd.to_datetime(row['Fecha Inicio']).date()  # Convert to datetime and extract date\n",
    "            dias = (hoy - fecha_inicio).days\n",
    "            dias = dias + 1\n",
    "            nueva_fila = pd.DataFrame({'Cupo': [row['Cupo']], 'Inicio': [row['Fecha Inicio']],\n",
    "                                       'Finalizo': [None], 'Dias': [dias], 'Observacion': [row['Observaciones']]})\n",
    "            # Concatenar el nuevo DataFrame con Mantenimiento\n",
    "            Mantenimiento = pd.concat([Mantenimiento, nueva_fila], ignore_index=True)\n",
    "        else:\n",
    "            # Busca la fila existente en Mantenimiento\n",
    "            index_mantenimiento = Mantenimiento[Mantenimiento['Cupo'] == row['Cupo']].index[0]\n",
    "            fecha_inicio_actual = pd.to_datetime(row['Fecha Inicio']).date()  # Convert to datetime and extract date\n",
    "            fecha_inicio_mantenimiento = pd.to_datetime(Mantenimiento.loc[index_mantenimiento, 'Inicio']).date()  # Convert to datetime and extract date\n",
    "            dias = (hoy - fecha_inicio_mantenimiento).days\n",
    "            Mantenimiento.at[index_mantenimiento, 'Dias'] = dias + 1\n",
    "            Mantenimiento.at[index_mantenimiento, 'Inicio'] = row['Fecha Inicio']  # Actualiza la columna 'Inicio'\n",
    "\n",
    "    elif row['ESTADO'] != \"MANTENIMIENTO\":\n",
    "        # Verifica si el Cupo existe en Mantenimiento y si no tiene fecha de finalización\n",
    "        if row['Cupo'] in Mantenimiento['Cupo'].values and pd.isna(Mantenimiento[Mantenimiento['Cupo'] == row['Cupo']]['Finalizo'].values[0]):\n",
    "            # Actualiza la fecha de finalización en Mantenimiento\n",
    "            index_mantenimiento = Mantenimiento[Mantenimiento['Cupo'] == row['Cupo']].index[0]\n",
    "            fecha_inicio_actual = pd.to_datetime(Mantenimiento.loc[Mantenimiento['Cupo'] == row['Cupo'], 'Inicio'].iloc[0]).date()  # Convert to datetime and extract date\n",
    "            if row['ESTADO'] == 'DISPONIBLE':\n",
    "                Mantenimiento.at[index_mantenimiento, 'Finalizo'] = hoy\n",
    "            Mantenimiento.loc[index_mantenimiento, 'Finalizo'] = fecha_inicio_actual.strftime(\"%m/%d/%Y %H:%M:%S\")\n",
    "            dias = (hoy - fecha_inicio_actual).days\n",
    "            Mantenimiento.at[index_mantenimiento, 'Dias'] = dias + 1\n",
    "\n",
    "column_order = ['Cupo', 'Inicio', 'Finalizo', 'Dias', 'Observacion']\n",
    "Mantenimiento = Mantenimiento[column_order]\n",
    "Mantenimiento.to_excel('Mantenimiento.xlsx', index=False)\n",
    "# Imprime el DataFrame Mantenimiento actualizado\n",
    "print(Mantenimiento)\n"
   ]
  }
 ],
 "metadata": {
  "kernelspec": {
   "display_name": "Python 3",
   "language": "python",
   "name": "python3"
  },
  "language_info": {
   "codemirror_mode": {
    "name": "ipython",
    "version": 3
   },
   "file_extension": ".py",
   "mimetype": "text/x-python",
   "name": "python",
   "nbconvert_exporter": "python",
   "pygments_lexer": "ipython3",
   "version": "3.12.1"
  },
  "orig_nbformat": 4
 },
 "nbformat": 4,
 "nbformat_minor": 2
}
