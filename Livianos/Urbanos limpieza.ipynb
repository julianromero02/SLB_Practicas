{
 "cells": [
  {
   "cell_type": "code",
   "execution_count": 1,
   "metadata": {},
   "outputs": [
    {
     "name": "stderr",
     "output_type": "stream",
     "text": [
      "C:\\Users\\57317\\AppData\\Local\\Temp\\ipykernel_19688\\1282955391.py:1: DeprecationWarning: \n",
      "Pyarrow will become a required dependency of pandas in the next major release of pandas (pandas 3.0),\n",
      "(to allow more performant data types, such as the Arrow string type, and better interoperability with other libraries)\n",
      "but was not found to be installed on your system.\n",
      "If this would cause problems for you,\n",
      "please provide us feedback at https://github.com/pandas-dev/pandas/issues/54466\n",
      "        \n",
      "  import pandas as pd\n"
     ]
    },
    {
     "name": "stdout",
     "output_type": "stream",
     "text": [
      "Index(['CONSECUTIVO', 'ESTADO', 'Fecha de Creación', 'Cliente',\n",
      "       '1.- ¿Tipo de servicio requerido? / Type of service required?', 'OTRO',\n",
      "       '2.- ¿La solicitud es para mi? / Is it an own requirement?',\n",
      "       '3.-Ingrese el Gin Number del pasajero / Type the Passenger Gin Number || SI ES CONTRATISTA, DEBE DIGITAR EL GIN NUMBER DEL SOLICITANTE / IF IT IS THIRD PARTY PERSON, TYPE REQUESTER GIN',\n",
      "       '4.- Nombre del pasajero / Passenger´s name',\n",
      "       '5.- Número del contacto / Contact Number',\n",
      "       '6.- Por favor tenga en cuenta que esta cumpliendo con los siguientes requerimientos para el ingreso a la base | Please assure you have completed one site pass registration process',\n",
      "       '7.- Business Line (Seleccione el BL donde pertenece / Choose the BL for the requirement)',\n",
      "       '8.- Sub Business Line Reservoir Performance Evluation /RPE)',\n",
      "       '9. Si seleccionaste en la pregunta 8 la opción Otro-Other, favor escribir el Sub Business Line al que perteneces / If you chose in question 8 the option OTro-Other, please write down your Sub Business Line.',\n",
      "       '10.- Indique el centro de costo al que pertenece / Please type your cost center',\n",
      "       '11.- Número de vuelo: Favor indicar el numero de vuelo si aplica, de lo contrario coloque N/A || Flight number: please enter the flight number if applies, otherwise write N/A',\n",
      "       '12.- ¿Es un Pasajero internacional ? / Are you an international traveler ?',\n",
      "       '13.- Entiendo que si esta solicitud es para el día de mañana y es creada después de las 2:00 PM, es necesario la escalación con el manager de Logística (Bernardo Aristizabal) / I understand that if this request is for tomorrow and it is created after 2:00 PM, it is necessary to escalate with the logistics manager Bernardo Aristizabal',\n",
      "       '14.- Elija la fecha y hora del servicio / Choose service date and hour',\n",
      "       '15.- Origen / Origin (Especifique su dirección de origen / Type your address of origin',\n",
      "       '16.- Seleccione el municipio de origen / Select the municipality of your origin',\n",
      "       '17.- Destino / Destination (Especifique su dirección de destino / Type you address)',\n",
      "       '18.- Seleccione el municipio de destino / Select the municipality of your destination',\n",
      "       '19.- Equipaje (escoge el equipaje con el que viajas) /// Luggage ( Choose the type of luggage you will travel with)',\n",
      "       '20.- Comentarios Adicionales / Additional Comments',\n",
      "       '21.- Se requiere el viaje de retorno? / Do you need a return trip?',\n",
      "       '22. Escoga la hora del retorno, si no requieres viaje de retorno por favor escoge 00:00 / Choose the time for the return trip if you dont need a return trip please type 00:00.',\n",
      "       '23. En caso de tener un vuelo de retorno EL MISMO DÍA favor digitar el número de vuelo / In case you have a return flight FOR THE SAME DAY please type the flight number',\n",
      "       'PASAJERO', 'PROVEEDOR', 'TIPO DE SERVICIO / TYPE OF SERVICE',\n",
      "       'CATEGORIA DE SERVICIO / CATEGORY OF SERVICE',\n",
      "       'TIPO VEHICULO / VEHICLE TYPE', 'PERIOD', 'LOGISTIC COORDINATOR',\n",
      "       'CONDUCTOR / DRIVER', 'GIN', 'PLACA VEHICULO / VEHICLE LICENSE PLATE',\n",
      "       'REAL PLATE', 'VDO', 'PREINICIO DE RUTA / PRE-ROUTE START', 'OBSERV',\n",
      "       'INICIO DE RUTA / ROUTE START', 'OBSER', 'FIN DE RUTA / ROUTE END',\n",
      "       'OBSER.1', 'KM RECORRIDOS / TRAVELED KM', 'Shipment', 'Comments',\n",
      "       'Freight', 'ReturnCost', 'StandByDays', 'CostStandby',\n",
      "       'AdditionalDriver', 'EquimentRentalForkliftCranes', 'AdditionalCostKM',\n",
      "       'CostoDiaDeTrabajo'],\n",
      "      dtype='object')\n"
     ]
    }
   ],
   "source": [
    "import pandas as pd \n",
    "import re\n",
    "import numpy as np\n",
    "from unidecode import unidecode\n",
    "import funciones\n",
    "df=pd.read_excel(\"urbanos20-10.xlsx\")\n",
    "print(df.columns)"
   ]
  },
  {
   "cell_type": "code",
   "execution_count": 2,
   "metadata": {},
   "outputs": [
    {
     "name": "stdout",
     "output_type": "stream",
     "text": [
      "Index(['Order Base', 'ESTADO', 'Vehicle plate', 'BL', 'BL2', 'Requester',\n",
      "       'Origin', 'Destination', 'Fecha y hora de creacion de OB',\n",
      "       'Fecha y hora de cargue', 'PROVEEDOR', 'Retorno', 'WBS'],\n",
      "      dtype='object')\n"
     ]
    }
   ],
   "source": [
    "\n",
    "df=df[df[\"PROVEEDOR\"]==\"ENTRAPETROL\"]\n",
    "columnas=['CONSECUTIVO',\"ESTADO\",'PLACA VEHICULO / VEHICLE LICENSE PLATE','7.- Business Line (Seleccione el BL donde pertenece / Choose the BL for the requirement)','8.- Sub Business Line Reservoir Performance Evluation /RPE)','Cliente','16.- Seleccione el municipio de origen / Select the municipality of your origin','18.- Seleccione el municipio de destino / Select the municipality of your destination','Fecha de Creación','14.- Elija la fecha y hora del servicio / Choose service date and hour','PROVEEDOR','21.- Se requiere el viaje de retorno? / Do you need a return trip?','10.- Indique el centro de costo al que pertenece / Please type your cost center']\n",
    "for col in columnas:\n",
    "    if col not in df.columns:\n",
    "        print(f\"Column '{col}' not found in the DataFrame.\")\n",
    "df=df[columnas]\n",
    "df.rename(columns={\"CONSECUTIVO\":\"Order Base\",\"PLACA VEHICULO / VEHICLE LICENSE PLATE\":\"Vehicle plate\",\"16.- Seleccione el municipio de origen / Select the municipality of your origin\":\"Origin\",\"18.- Seleccione el municipio de destino / Select the municipality of your destination\":\"Destination\",\"14.- Elija la fecha y hora del servicio / Choose service date and hour\":\"Fecha y hora de cargue\",\"FIN DE RUTA / ROUTE END\":\"Fecha Finalizacion\",\"7.- Business Line (Seleccione el BL donde pertenece / Choose the BL for the requirement)\":\"BL\",\"8.- Sub Business Line Reservoir Performance Evluation /RPE)\":\"BL2\",\"Cliente\":'Requester',\"Fecha de Creación\":'Fecha y hora de creacion de OB','21.- Se requiere el viaje de retorno? / Do you need a return trip?':'Retorno','10.- Indique el centro de costo al que pertenece / Please type your cost center':'WBS'},inplace=True)\n",
    "df=df[df['ESTADO']!='CANCELAR']\n",
    "print(df.columns)\n"
   ]
  },
  {
   "cell_type": "code",
   "execution_count": 3,
   "metadata": {},
   "outputs": [],
   "source": [
    "df['Logistic Cordinator']='Paola Andrea Chacon Acuna'\n",
    "df['Shipment']=df['Order Base']\n",
    "df['Period']='Jan-24'\n",
    "df['Real Plate services']=df['Vehicle plate']\n",
    "df['Rechargable Cost To Client']='NO'\n",
    "df['Fecha Finalizacion']=df[\"Fecha y hora de cargue\"]\n",
    "# Assuming df['BL2'] contains non-string data\n",
    "df['BL2'] = df['BL2'].astype(str)\n",
    "# Use a regular expression to extract text within parentheses\n",
    "df['BL'] = df['BL2'].apply(lambda x: re.findall(r'\\((.*?)\\)', x)[0] if re.findall(r'\\((.*?)\\)', x) else x)\n",
    "# Now, you can set 'BL2' to an empty string if needed\n",
    "df['BL2'] = \"\"\n",
    "df['BL3'] = \"\"\n",
    "df['Service Type']='RENTA FIJA OFS'\n",
    "df['Service Category']='DOMESTIC'\n",
    "df['Suppliers']='COL_SCHLUMBERGER'\n",
    "df['Vehicle Type']='PICKUP'\n",
    "df['Vehicle Type_Categoria']='LIGHT'\n",
    "df['Driver']=\"\"\n",
    "df['Driver GIN']=\"\"\n",
    "df['Distance KM']='80'\n",
    "df['Days of Service']='1'\n",
    "df['Fecha Finalizacion'] = pd.to_datetime(df['Fecha Finalizacion'])\n",
    "df['Fecha y hora de cargue'] = pd.to_datetime(df['Fecha y hora de cargue'])\n",
    "df['Fecha y hora de creacion de OB'] = pd.to_datetime(df['Fecha y hora de creacion de OB'])\n",
    "df['Fecha Finalizacion']+=pd.Timedelta(hours=4)\n",
    "df['Freight']='160000'\n",
    "desired_order=['Logistic Cordinator','Order Base','Shipment','Period','Vehicle plate','Real Plate services','Rechargable Cost To Client','BL','BL2','BL3','Service Type','Service Category','Suppliers','Vehicle Type','Vehicle Type_Categoria','Driver','Driver GIN','Requester','Origin','Destination','Distance KM','Fecha y hora de creacion de OB','Fecha y hora de cargue','Fecha Finalizacion','Freight','Days of Service','Retorno','WBS']\n",
    "df=df[desired_order]\n",
    "df['Fecha y hora de cargue'] = df['Fecha y hora de cargue'].dt.strftime('%m/%d/%Y %H:%M:%S')\n",
    "df['Fecha y hora de creacion de OB']=df['Fecha y hora de creacion de OB'].dt.strftime('%m/%d/%Y %H:%M:%S')\n",
    "df['Fecha Finalizacion']=df['Fecha Finalizacion'].dt.strftime('%m/%d/%Y %H:%M:%S')"
   ]
  },
  {
   "cell_type": "code",
   "execution_count": 4,
   "metadata": {},
   "outputs": [],
   "source": [
    "def mapear_renta(row):\n",
    "    rentas=pd.read_excel(\"Placas.xlsx\",sheet_name=\"Renta\",header=0)\n",
    "    matricula=row['Vehicle plate']\n",
    "    matching_row=rentas.loc[rentas['Cupo/Placa']==matricula]\n",
    "    if not matching_row.empty:\n",
    "        return matching_row['Clase'].values[0]\n",
    "    else:\n",
    "        return \"No encontrado\"\n",
    "def provisionar(row):\n",
    "    tipo=mapear_renta(row)\n",
    "    if not tipo==\"PICKUP\":\n",
    "        if tipo==\"AUT HIBRIDO\" or tipo==\"PICK UP ELECTRICA\":\n",
    "            if 'Si' in row['Retorno']:\n",
    "                return 350000\n",
    "            else:\n",
    "                return 150000         \n",
    "    else:    \n",
    "        if 'Si' in row['Retorno']:\n",
    "            return 550000\n",
    "        else:\n",
    "            return 200000\n",
    "def verificarWBS(cadena):\n",
    "    cadena=str(cadena)\n",
    "    cadena=cadena.upper()\n",
    "    patron_formato1 = r'^CO\\d{6}$'\n",
    "    patron_formato2 = r'^J\\.\\d{2}\\.\\d{6}$'\n",
    "    if re.search(patron_formato1, cadena) or re.search(patron_formato2, cadena):\n",
    "        #comentado  \n",
    "        return cadena\n",
    "    else:\n",
    "        if len(cadena)==6 and cadena.isdigit():\n",
    "            cadena=f\"CO{cadena}\"\n",
    "            return cadena\n",
    "        else:\n",
    "            cadena.replace(' ','')\n",
    "            return cadena\n",
    "df['WBS']=df['WBS'].apply(verificarWBS)        \n",
    "df['Freight']=df.apply(provisionar,axis=1)"
   ]
  },
  {
   "cell_type": "code",
   "execution_count": 5,
   "metadata": {},
   "outputs": [],
   "source": [
    "df.to_excel('urbanos_limpios.xlsx', engine='openpyxl', index=False)\n",
    "    "
   ]
  }
 ],
 "metadata": {
  "kernelspec": {
   "display_name": "Python 3",
   "language": "python",
   "name": "python3"
  },
  "language_info": {
   "codemirror_mode": {
    "name": "ipython",
    "version": 3
   },
   "file_extension": ".py",
   "mimetype": "text/x-python",
   "name": "python",
   "nbconvert_exporter": "python",
   "pygments_lexer": "ipython3",
   "version": "3.12.2"
  }
 },
 "nbformat": 4,
 "nbformat_minor": 2
}
